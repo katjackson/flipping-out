{
 "cells": [
  {
   "cell_type": "code",
   "execution_count": 1,
   "metadata": {
    "collapsed": true
   },
   "outputs": [],
   "source": [
    "%matplotlib inline"
   ]
  },
  {
   "cell_type": "code",
   "execution_count": 473,
   "metadata": {
    "collapsed": true
   },
   "outputs": [],
   "source": [
    "import math\n",
    "import random\n",
    "import statistics as st\n",
    "import numpy as np\n",
    "import matplotlib.pyplot as plt"
   ]
  },
  {
   "cell_type": "code",
   "execution_count": 474,
   "metadata": {
    "collapsed": true
   },
   "outputs": [],
   "source": [
    "def flip_a_coin():\n",
    "    x = random.choice(['heads', 'tails'])\n",
    "    return x"
   ]
  },
  {
   "cell_type": "code",
   "execution_count": 475,
   "metadata": {
    "collapsed": false
   },
   "outputs": [
    {
     "data": {
      "text/plain": [
       "'heads'"
      ]
     },
     "execution_count": 475,
     "metadata": {},
     "output_type": "execute_result"
    }
   ],
   "source": [
    "flip_a_coin()"
   ]
  },
  {
   "cell_type": "code",
   "execution_count": 476,
   "metadata": {
    "collapsed": false
   },
   "outputs": [],
   "source": [
    "def simulate_base_2_flip(n=2**16):\n",
    "    heads = 0\n",
    "    tails = 0\n",
    "\n",
    "    heads_check = []\n",
    "    tails_check = []\n",
    "\n",
    "    max_exp = math.log2(n)\n",
    "    exp = 0\n",
    "    count = 1\n",
    "    \n",
    "    while count < n:\n",
    "        result = flip_a_coin()\n",
    "        if result == 'heads':\n",
    "            heads += 1\n",
    "        else:\n",
    "            tails += 1\n",
    "\n",
    "        if count == 2**exp:\n",
    "            heads_check.append(heads)\n",
    "            tails_check.append(tails)\n",
    "            exp += 1\n",
    "            \n",
    "        count +=1\n",
    "    \n",
    "    heads_check.append(heads)\n",
    "    tails_check.append(tails)\n",
    "    \n",
    "    return heads_check, tails_check"
   ]
  },
  {
   "cell_type": "code",
   "execution_count": 477,
   "metadata": {
    "collapsed": false
   },
   "outputs": [],
   "source": [
    "heads, tails = simulate_base_2_flip()"
   ]
  },
  {
   "cell_type": "code",
   "execution_count": 478,
   "metadata": {
    "collapsed": false
   },
   "outputs": [
    {
     "name": "stdout",
     "output_type": "stream",
     "text": [
      "[-1, -2, -2, -6, -6, -4, -10, -26, -28, -16, -48, -46, -36, -106, -120, -464, -369]\n"
     ]
    }
   ],
   "source": [
    "distance_between = [a - b for a, b in zip(heads, tails)]\n",
    "print(distance_between)"
   ]
  },
  {
   "cell_type": "code",
   "execution_count": 479,
   "metadata": {
    "collapsed": false
   },
   "outputs": [
    {
     "data": {
      "text/plain": [
       "<matplotlib.text.Text at 0x117eef080>"
      ]
     },
     "execution_count": 479,
     "metadata": {},
     "output_type": "execute_result"
    },
    {
     "data": {
      "image/png": "[encoded data removed]",
      "text/plain": [
       "<matplotlib.figure.Figure at 0x117f38198>"
      ]
     },
     "metadata": {},
     "output_type": "display_data"
    }
   ],
   "source": [
    "plt.plot(tails, 'b--')\n",
    "plt.plot(heads, 'ro')\n",
    "plt.title('Heads or Tails?', fontsize = 16)\n",
    "plt.xlabel('flipped 2**n times')\n",
    "plt.grid(True)\n",
    "plt.text(4, 25000, r'gettin texty')"
   ]
  },
  {
   "cell_type": "code",
   "execution_count": 480,
   "metadata": {
    "collapsed": true
   },
   "outputs": [],
   "source": [
    "x1 = [2**n for n in range(17)]"
   ]
  },
  {
   "cell_type": "code",
   "execution_count": 481,
   "metadata": {
    "collapsed": false
   },
   "outputs": [
    {
     "data": {
      "image/png": "[encoded data removed]",
      "text/plain": [
       "<matplotlib.figure.Figure at 0x117b61a58>"
      ]
     },
     "metadata": {},
     "output_type": "display_data"
    }
   ],
   "source": [
    "plt.plot(x1, distance_between)\n",
    "plt.xlabel('2**n number of flips')\n",
    "plt.ylabel('Difference in HEADS and TAILS totals')\n",
    "plt.show()"
   ]
  },
  {
   "cell_type": "code",
   "execution_count": 482,
   "metadata": {
    "collapsed": false
   },
   "outputs": [],
   "source": [
    "def ratio(list_a):\n",
    "    ratios = []\n",
    "    for index, a in enumerate(list_a):\n",
    "        b = (2**index) - a\n",
    "\n",
    "        if b == 0:\n",
    "            ratios.append(10)\n",
    "        else:\n",
    "            ratios.append(a / b)\n",
    "    return ratios\n",
    "\n",
    "ratio_h_to_t = ratio(heads)"
   ]
  },
  {
   "cell_type": "code",
   "execution_count": 483,
   "metadata": {
    "collapsed": false
   },
   "outputs": [
    {
     "data": {
      "image/png": "[encoded data removed]",
      "text/plain": [
       "<matplotlib.figure.Figure at 0x117e144e0>"
      ]
     },
     "metadata": {},
     "output_type": "display_data"
    }
   ],
   "source": [
    "plt.plot(x1, ratio_h_to_t)\n",
    "plt.show()"
   ]
  },
  {
   "cell_type": "code",
   "execution_count": 484,
   "metadata": {
    "collapsed": false
   },
   "outputs": [
    {
     "data": {
      "image/png": "[encoded data removed]",
      "text/plain": [
       "<matplotlib.figure.Figure at 0x117d2fba8>"
      ]
     },
     "metadata": {},
     "output_type": "display_data"
    }
   ],
   "source": [
    "plt.scatter(x1, ratio_h_to_t)\n",
    "plt.xscale('log', basex=2)"
   ]
  },
  {
   "cell_type": "code",
   "execution_count": 485,
   "metadata": {
    "collapsed": false
   },
   "outputs": [
    {
     "data": {
      "image/png": "[encoded data removed]",
      "text/plain": [
       "<matplotlib.figure.Figure at 0x118301eb8>"
      ]
     },
     "metadata": {},
     "output_type": "display_data"
    }
   ],
   "source": [
    "plt.scatter(x1, distance_between)\n",
    "plt.xscale('log', basex=2)"
   ]
  },
  {
   "cell_type": "code",
   "execution_count": 490,
   "metadata": {
    "collapsed": false
   },
   "outputs": [],
   "source": [
    "ratios_by_point = {key: [] for key in x1}\n",
    "\n",
    "for _ in range(20):\n",
    "    heads, tails = simulate_base_2_flip()\n",
    "    \n",
    "    for i, value in enumerate(heads):\n",
    "        ratios_by_point[x1[i]].append(heads[i])\n",
    "\n",
    "for key in heads_by_point:\n",
    "    ratios_by_point[key] = ratio(ratios_by_point[key])"
   ]
  },
  {
   "cell_type": "code",
   "execution_count": 491,
   "metadata": {
    "collapsed": false
   },
   "outputs": [],
   "source": [
    "means = []\n",
    "for key in sorted(list(ratios_by_point.keys())):\n",
    "    means.append(st.mean(ratios_by_point[key]))\n",
    "\n",
    "st_devs = []\n",
    "for key in sorted(list(ratios_by_point.keys())):\n",
    "    st_devs.append(st.stdev(ratios_by_point[key]))"
   ]
  },
  {
   "cell_type": "code",
   "execution_count": 492,
   "metadata": {
    "collapsed": false
   },
   "outputs": [
    {
     "data": {
      "image/png": "[encoded data removed]",
      "text/plain": [
       "<matplotlib.figure.Figure at 0x117fb40f0>"
      ]
     },
     "metadata": {},
     "output_type": "display_data"
    }
   ],
   "source": [
    "plt.scatter(sorted(list(ratios_by_point.keys())), means)\n",
    "plt.xscale('log', basex=2)"
   ]
  },
  {
   "cell_type": "code",
   "execution_count": 493,
   "metadata": {
    "collapsed": false
   },
   "outputs": [
    {
     "data": {
      "image/png": "[encoded data removed]",
      "text/plain": [
       "<matplotlib.figure.Figure at 0x117648208>"
      ]
     },
     "metadata": {},
     "output_type": "display_data"
    }
   ],
   "source": [
    "plt.scatter(sorted(list(ratios_by_point.keys())), st_devs)\n",
    "plt.xscale('log', basex=2)"
   ]
  },
  {
   "cell_type": "code",
   "execution_count": 498,
   "metadata": {
    "collapsed": false
   },
   "outputs": [
    {
     "name": "stdout",
     "output_type": "stream",
     "text": [
      "49\n"
     ]
    }
   ],
   "source": [
    "def simulate_flips(n):\n",
    "    heads = 0\n",
    "    \n",
    "    for _ in range(n):\n",
    "        result = flip_a_coin()\n",
    "        if result == 'heads':\n",
    "            heads += 1\n",
    "    \n",
    "    tails = n - heads\n",
    "    return heads\n",
    "\n",
    "print(simulate_flips(100))"
   ]
  },
  {
   "cell_type": "code",
   "execution_count": null,
   "metadata": {
    "collapsed": true
   },
   "outputs": [],
   "source": []
  }
 ],
 "metadata": {
  "kernelspec": {
   "display_name": "Python 3",
   "language": "python",
   "name": "python3"
  },
  "language_info": {
   "codemirror_mode": {
    "name": "ipython",
    "version": 3
   },
   "file_extension": ".py",
   "mimetype": "text/x-python",
   "name": "python",
   "nbconvert_exporter": "python",
   "pygments_lexer": "ipython3",
   "version": "3.5.1"
  }
 },
 "nbformat": 4,
 "nbformat_minor": 0
}
